{
  "nbformat": 4,
  "nbformat_minor": 0,
  "metadata": {
    "colab": {
      "name": "Statcast - Data Cleaning",
      "provenance": [],
      "authorship_tag": "ABX9TyPIvv9ve59bbfAwQtBg9Pjb",
      "include_colab_link": true
    },
    "kernelspec": {
      "name": "python3",
      "display_name": "Python 3"
    }
  },
  "cells": [
    {
      "cell_type": "markdown",
      "metadata": {
        "id": "view-in-github",
        "colab_type": "text"
      },
      "source": [
        "<a href=\"https://colab.research.google.com/github/skbetz54/MLB_Statcast_Project/blob/main/Statcast_Data_Cleaning.ipynb\" target=\"_parent\"><img src=\"https://colab.research.google.com/assets/colab-badge.svg\" alt=\"Open In Colab\"/></a>"
      ]
    },
    {
      "cell_type": "markdown",
      "metadata": {
        "id": "BkIF5u2CMjTy"
      },
      "source": [
        "# Statcast Project - Data Cleaning\r\n",
        "\r\n",
        "The purpose of this Colab notebook is to provide a separate notebook for the necessary cleaning of the dataset to work with in the \"Statcast - Classification\" notebook. The raw file imported into the \"Statcast - Classification\" notebook is simply the original CSV files (from the path in this notebook) that has run through all of this notebook's cells.\r\n",
        "\r\n",
        "We will be cleaning two data files: one for the 2019 Baltimore Orioles' season and one for the 2019 Los Angeles Angels' season. \r\n",
        "\r\n",
        "## **2019 Baltimore Orioles**"
      ]
    },
    {
      "cell_type": "code",
      "metadata": {
        "id": "0t9tvgmBMg2K"
      },
      "source": [
        "import pandas as pd\r\n",
        "#raw github file where data is stored\r\n",
        "url = \"https://raw.githubusercontent.com/skbetz54/MLB_Statcast_Project/main/Data/baltimore_2019.csv\"\r\n",
        "\r\n",
        "df = pd.read_csv(url, header=0)\r\n",
        "\r\n",
        "# Dropping deprecated columns that hold no relevant information\r\n",
        "df = df.drop(columns=['spin_rate_deprecated','break_angle_deprecated','break_length_deprecated','umpire','pitcher.1','fielder_2.1','fielder_3','fielder_4','fielder_5','fielder_6',\r\n",
        "              'fielder_7','fielder_8','fielder_9', 'tfs_deprecated','tfs_zulu_deprecated', 'fielder_2','post_away_score','post_home_score','spin_dir',\r\n",
        "              \"of_fielding_alignment\",\"if_fielding_alignment\",\"post_fld_score\",\"post_bat_score\",\"fld_score\",\"bat_score\",\"on_1b\",\"on_2b\",\"on_3b\",\"game_year\",\"home_team\",\"away_team\"])\r\n",
        "\r\n",
        "# Specifying the various df['events'] occurrences which will remain in the dataframe\r\n",
        "events_types = ['single','double','triple','home_run','strikeout','field_out','field_error','fielders_choice_out','force_out','sac_bunt','grounded_into_double_play',\r\n",
        "                'strikeout_double_play','sac_fly','double_play','fielders_choice','sac_fly_double_play','other_out']\r\n",
        "# Specifying the df['events'] occurrences which will be called a hit\r\n",
        "hit_types = ['single','double','triple','home_run']\r\n",
        "\r\n",
        "# deleting rows in which df['events'] or df['pitch_type'] are null, since they are important for analysis (i.e. the middle of an at bat, so no \"event\" has occurred)\r\n",
        "df = df[df.events.notnull()]\r\n",
        "df = df[df.pitch_type.notnull()]\r\n",
        "\r\n",
        "for i in df.index:\r\n",
        "  if df['events'][i] in events_types:\r\n",
        "    continue\r\n",
        "  else:\r\n",
        "    df.drop(labels= i, inplace = True, errors = 'ignore')\r\n",
        "\r\n",
        "df = df.reset_index()\r\n",
        "del df['index']\r\n",
        "\r\n",
        "# Creating a \"opp_hand\" variable to determine if the batter and pitcher use the same hand\r\n",
        "# 0 means the both batter and pitcher are left (right) handed, 1 means they are opposite.\r\n",
        "\r\n",
        "handval = [0 if df['stand'][i] == df['p_throws'][i] else 1 for i in df.index]\r\n",
        "\r\n",
        "df['opp_hand'] = handval"
      ],
      "execution_count": null,
      "outputs": []
    },
    {
      "cell_type": "code",
      "metadata": {
        "id": "qZ_g_o0cN97v"
      },
      "source": [
        "# Using sklearn.OneHotEncoder to change the \"pitch_type\" categorical variable to a workable format\r\n",
        "from sklearn.preprocessing import OneHotEncoder\r\n",
        "\r\n",
        "enc = OneHotEncoder(handle_unknown='ignore')\r\n",
        "\r\n",
        "#Fitting the encoder to our \"pitch_type\" variable and creating a dataframe\r\n",
        "enc_df = pd.DataFrame(enc.fit_transform(df[['pitch_type']]).toarray())\r\n",
        "a = list(enc.get_feature_names())\r\n",
        "enc_df.columns = a\r\n",
        "\r\n",
        "#combining the encoded dataframe back into the original\r\n",
        "df = df.join(enc_df)"
      ],
      "execution_count": null,
      "outputs": []
    },
    {
      "cell_type": "code",
      "metadata": {
        "id": "UhdmwhXASzUk"
      },
      "source": [
        "# Creating our target variable, \"HitClf\", which will be 1 if the outcome is a hit and 0 otherwise\r\n",
        "hitval = [1 if df['events'][i] in hit_types else 0 for i in df.index]\r\n",
        "\r\n",
        "df['HitClf'] = hitval"
      ],
      "execution_count": null,
      "outputs": []
    },
    {
      "cell_type": "code",
      "metadata": {
        "id": "TOuIcjUVfr1C"
      },
      "source": [
        "# There are many descriptor columns in the dataset that give no information and cannot be used in modeling.\r\n",
        "# This cell gets rid of all columns that have the dtype \"object\".\r\n",
        "df = df.select_dtypes(exclude = 'object') "
      ],
      "execution_count": null,
      "outputs": []
    },
    {
      "cell_type": "code",
      "metadata": {
        "id": "sMJ-1j9aTYzk"
      },
      "source": [
        "df.to_csv(r'C:\\Users\\Owner\\Documents\\Grad School\\DATA 602\\Final Project\\baltimore_cleaned.csv')"
      ],
      "execution_count": null,
      "outputs": []
    },
    {
      "cell_type": "markdown",
      "metadata": {
        "id": "00ki96n_TBbA"
      },
      "source": [
        "## **2019 Los Angeles Angels**\r\n",
        "This involves the same steps as the Orioles dataset, as they are both obtained from the same source"
      ]
    },
    {
      "cell_type": "code",
      "metadata": {
        "id": "orRW50MBTFR7"
      },
      "source": [
        "import pandas as pd\r\n",
        "#raw github file where data is stored\r\n",
        "url = \"https://raw.githubusercontent.com/skbetz54/MLB_Statcast_Project/main/Data/LA_2019.csv\"\r\n",
        "\r\n",
        "df = pd.read_csv(url, header=0)\r\n",
        "\r\n",
        "# Dropping deprecated columns that hold no relevant information\r\n",
        "df = df.drop(columns=['spin_rate_deprecated','break_angle_deprecated','break_length_deprecated','umpire','pitcher.1','fielder_2.1','fielder_3','fielder_4','fielder_5','fielder_6',\r\n",
        "              'fielder_7','fielder_8','fielder_9', 'tfs_deprecated','tfs_zulu_deprecated', 'fielder_2','post_away_score','post_home_score','spin_dir',\r\n",
        "              \"of_fielding_alignment\",\"if_fielding_alignment\",\"post_fld_score\",\"post_bat_score\",\"fld_score\",\"bat_score\",\"on_1b\",\"on_2b\",\"on_3b\",\"game_year\",\"home_team\",\"away_team\"])\r\n",
        "\r\n",
        "# Specifying the various df['events'] occurrences which will remain in the dataframe\r\n",
        "events_types = ['single','double','triple','home_run','strikeout','field_out','field_error','fielders_choice_out','force_out','sac_bunt','grounded_into_double_play',\r\n",
        "                'strikeout_double_play','sac_fly','double_play','fielders_choice','sac_fly_double_play','other_out']\r\n",
        "# Specifying the df['events'] occurrences which will be called a hit\r\n",
        "hit_types = ['single','double','triple','home_run']\r\n",
        "\r\n",
        "# deleting rows in which df['events'] or df['pitch_type'] are null, since they are important for analysis (i.e. the middle of an at bat, so no \"event\" has occurred)\r\n",
        "df = df[df.events.notnull()]\r\n",
        "df = df[df.pitch_type.notnull()]\r\n",
        "\r\n",
        "for i in df.index:\r\n",
        "  if df['events'][i] in events_types:\r\n",
        "    continue\r\n",
        "  else:\r\n",
        "    df.drop(labels= i, inplace = True, errors = 'ignore')\r\n",
        "\r\n",
        "df = df.reset_index()\r\n",
        "del df['index']\r\n",
        "\r\n",
        "# Creating a \"opp_hand\" variable to determine if the batter and pitcher use the same hand\r\n",
        "# 0 means the both batter and pitcher are left (right) handed, 1 means they are opposite.\r\n",
        "\r\n",
        "handval = [0 if df['stand'][i] == df['p_throws'][i] else 1 for i in df.index]\r\n",
        "\r\n",
        "df['opp_hand'] = handval"
      ],
      "execution_count": null,
      "outputs": []
    },
    {
      "cell_type": "code",
      "metadata": {
        "id": "jaHEbMD1YguS"
      },
      "source": [
        "# Using sklearn.OneHotEncoder to change the \"pitch_type\" categorical variable to a workable format\r\n",
        "from sklearn.preprocessing import OneHotEncoder\r\n",
        "\r\n",
        "enc = OneHotEncoder(handle_unknown='ignore')\r\n",
        "\r\n",
        "#Fitting the encoder to our \"pitch_type\" variable and creating a dataframe\r\n",
        "enc_df = pd.DataFrame(enc.fit_transform(df[['pitch_type']]).toarray())\r\n",
        "a = list(enc.get_feature_names())\r\n",
        "enc_df.columns = a\r\n",
        "\r\n",
        "#combining the encoded dataframe back into the original\r\n",
        "df = df.join(enc_df)"
      ],
      "execution_count": null,
      "outputs": []
    },
    {
      "cell_type": "code",
      "metadata": {
        "id": "xcLaLG2XYkLv"
      },
      "source": [
        " # Creating our target variable, \"HitClf\", which will be 1 if the outcome is a hit and 0 otherwise\r\n",
        "hitval = [1 if df['events'][i] in hit_types else 0 for i in df.index]\r\n",
        "\r\n",
        "df['HitClf'] = hitval"
      ],
      "execution_count": null,
      "outputs": []
    },
    {
      "cell_type": "code",
      "metadata": {
        "id": "WyN1YmxrZ7oK"
      },
      "source": [
        "# df.to_csv(r'C:\\Users\\Owner\\Documents\\Grad School\\DATA 602\\Final Project\\LA_2019_cleaned.csv')"
      ],
      "execution_count": null,
      "outputs": []
    }
  ]
}
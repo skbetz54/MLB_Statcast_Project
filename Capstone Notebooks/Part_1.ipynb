{
  "nbformat": 4,
  "nbformat_minor": 0,
  "metadata": {
    "colab": {
      "name": "Part 1",
      "provenance": [],
      "authorship_tag": "ABX9TyNDVfuODWZh1r5tmVLG3Aqk",
      "include_colab_link": true
    },
    "kernelspec": {
      "name": "python3",
      "display_name": "Python 3"
    },
    "language_info": {
      "name": "python"
    }
  },
  "cells": [
    {
      "cell_type": "markdown",
      "metadata": {
        "id": "view-in-github",
        "colab_type": "text"
      },
      "source": [
        "<a href=\"https://colab.research.google.com/github/skbetz54/MLB_Statcast_Project/blob/main/Capstone%20Notebooks/Part_1.ipynb\" target=\"_parent\"><img src=\"https://colab.research.google.com/assets/colab-badge.svg\" alt=\"Open In Colab\"/></a>"
      ]
    },
    {
      "cell_type": "markdown",
      "source": [
        "# **Capstone Part 1**"
      ],
      "metadata": {
        "id": "gyZQ4jL8dIxM"
      }
    },
    {
      "cell_type": "code",
      "execution_count": 1,
      "metadata": {
        "colab": {
          "base_uri": "https://localhost:8080/"
        },
        "id": "QWymRSdpdGtW",
        "outputId": "b507f933-039d-4e02-da18-3541088786dc"
      },
      "outputs": [
        {
          "output_type": "stream",
          "name": "stdout",
          "text": [
            "Testing...\n"
          ]
        }
      ],
      "source": [
        "print(\"Testing...\")"
      ]
    }
  ]
}